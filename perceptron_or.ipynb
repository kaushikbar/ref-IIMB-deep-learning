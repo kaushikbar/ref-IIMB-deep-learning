{
 "cells": [
  {
   "cell_type": "code",
   "execution_count": 38,
   "metadata": {},
   "outputs": [],
   "source": [
    "import numpy as np\n",
    "import matplotlib.pyplot as plt"
   ]
  },
  {
   "cell_type": "code",
   "execution_count": 39,
   "metadata": {},
   "outputs": [],
   "source": [
    "num_inputs = 4\n",
    "dimension = 2"
   ]
  },
  {
   "cell_type": "code",
   "execution_count": 40,
   "metadata": {},
   "outputs": [],
   "source": [
    "input_array = np.array([\n",
    "    [0, 0],\n",
    "    [0, 1],\n",
    "    [1, 0],\n",
    "    [1, 1],\n",
    "])"
   ]
  },
  {
   "cell_type": "code",
   "execution_count": 41,
   "metadata": {},
   "outputs": [],
   "source": [
    "output_array = np.array([0, 1, 1, 1])"
   ]
  },
  {
   "cell_type": "code",
   "execution_count": 42,
   "metadata": {},
   "outputs": [
    {
     "data": {
      "text/plain": [
       "(4, 2)"
      ]
     },
     "execution_count": 42,
     "metadata": {},
     "output_type": "execute_result"
    }
   ],
   "source": [
    "# Bias Input\n",
    "bias = np.ones((num_inputs, 1))\n",
    "input_array.shape"
   ]
  },
  {
   "cell_type": "code",
   "execution_count": 43,
   "metadata": {},
   "outputs": [],
   "source": [
    "input_bias = np.hstack((bias, input_array))"
   ]
  },
  {
   "cell_type": "code",
   "execution_count": 44,
   "metadata": {},
   "outputs": [],
   "source": [
    "# randomly initialize the weights\n",
    "weight = np.random.randn(dimension + 1)"
   ]
  },
  {
   "cell_type": "code",
   "execution_count": 45,
   "metadata": {},
   "outputs": [],
   "source": [
    "# calculate the model output\n",
    "model_output = input_bias.dot(weight)"
   ]
  },
  {
   "cell_type": "code",
   "execution_count": 46,
   "metadata": {},
   "outputs": [],
   "source": [
    "def sigmoid(model_output):\n",
    "    return 1/(1 + np.exp(-model_output))"
   ]
  },
  {
   "cell_type": "code",
   "execution_count": 47,
   "metadata": {},
   "outputs": [],
   "source": [
    "Y_pred = sigmoid(model_output)"
   ]
  },
  {
   "cell_type": "code",
   "execution_count": 48,
   "metadata": {},
   "outputs": [],
   "source": [
    "# cross-entropy error\n",
    "def cross_entropy(actual, prediction):\n",
    "    E = 0\n",
    "    for i in range(num_inputs):\n",
    "        if actual[i] == 1:\n",
    "            E -= np.log(prediction[i])\n",
    "        else:\n",
    "            E -= np.log(1 - prediction[i])\n",
    "    return E"
   ]
  },
  {
   "cell_type": "code",
   "execution_count": 49,
   "metadata": {},
   "outputs": [],
   "source": [
    "# Gradient Descent\n",
    "learning_rate = 0.01\n",
    "error_array = []"
   ]
  },
  {
   "cell_type": "code",
   "execution_count": 50,
   "metadata": {},
   "outputs": [
    {
     "name": "stdout",
     "output_type": "stream",
     "text": [
      "2.36004475563\n",
      "1.57959432331\n",
      "1.32645768601\n",
      "1.17155288237\n",
      "1.05296594685\n",
      "0.956140076969\n",
      "0.875226880214\n",
      "0.806699873271\n",
      "0.748025936361\n",
      "0.697284148215\n",
      "0.652993204526\n",
      "0.614001347483\n",
      "0.579406347014\n",
      "0.548495590548\n",
      "0.520701136125\n",
      "0.495566047028\n",
      "0.472719169869\n",
      "0.451856185044\n",
      "0.432725299346\n",
      "0.415116373753\n",
      "0.398852599953\n",
      "0.383784076646\n",
      "0.369782810388\n",
      "0.356738792016\n",
      "0.344556891237\n",
      "0.33315437844\n",
      "0.322458931175\n",
      "0.312407018122\n",
      "0.30294257939\n",
      "0.294015941221\n",
      "0.285582917518\n",
      "0.277604061317\n",
      "0.270044037483\n",
      "0.262871094026\n",
      "0.256056614165\n",
      "0.249574734933\n",
      "0.243402020887\n",
      "0.237517183736\n",
      "0.231900840419\n",
      "0.22653530353\n",
      "0.221404399094\n",
      "0.216493307565\n",
      "0.211788424625\n",
      "0.207277238936\n",
      "0.202948224449\n",
      "0.198790745285\n",
      "0.194794971471\n",
      "0.190951804121\n",
      "0.187252808825\n",
      "0.183690156215\n",
      "0.180256568814\n",
      "0.176945273397\n",
      "0.173749958215\n",
      "0.170664734502\n",
      "0.16768410177\n",
      "0.164802916472\n",
      "0.162016363643\n",
      "0.159319931204\n",
      "0.156709386639\n",
      "0.154180755787\n",
      "0.151730303535\n",
      "0.149354516209\n",
      "0.147050085506\n",
      "0.144813893785\n",
      "0.142643000619\n",
      "0.140534630448\n",
      "0.138486161264\n",
      "0.136495114197\n",
      "0.134559143948\n",
      "0.132676029962\n",
      "0.130843668302\n",
      "0.129060064141\n",
      "0.127323324827\n",
      "0.125631653464\n",
      "0.123983342973\n",
      "0.122376770588\n",
      "0.120810392748\n",
      "0.119282740354\n",
      "0.117792414361\n",
      "0.116338081684\n",
      "0.114918471377\n",
      "0.113532371079\n",
      "0.112178623703\n",
      "0.110856124337\n",
      "0.109563817357\n",
      "0.10830069373\n",
      "0.107065788484\n",
      "0.105858178348\n",
      "0.104676979537\n",
      "0.103521345677\n",
      "0.102390465858\n",
      "0.101283562812\n",
      "0.10019989119\n",
      "0.0991387359584\n",
      "0.0980994108783\n",
      "0.0970812570811\n",
      "0.0960836417261\n",
      "0.0951059567355\n",
      "0.0941476176028\n",
      "0.0932080622685\n"
     ]
    }
   ],
   "source": [
    "for i in range(10000):\n",
    "    error = cross_entropy(output_array, Y_pred)\n",
    "    error_array.append(error)\n",
    "    if i % 100 == 0:\n",
    "        print(error)\n",
    "\n",
    "    # gradient descent weight udpate\n",
    "    weight += learning_rate * ( input_bias.T.dot(output_array - Y_pred) )\n",
    "\n",
    "    Y_pred = sigmoid(input_bias.dot(weight))"
   ]
  },
  {
   "cell_type": "code",
   "execution_count": 51,
   "metadata": {},
   "outputs": [
    {
     "data": {
      "image/png": "[encoded data removed]",
      "text/plain": [
       "<matplotlib.figure.Figure at 0x1d2a1059978>"
      ]
     },
     "metadata": {},
     "output_type": "display_data"
    }
   ],
   "source": [
    "plt.plot(error_array)\n",
    "plt.title(\"Cross-entropy per iteration\")\n",
    "plt.show()"
   ]
  },
  {
   "cell_type": "code",
   "execution_count": 52,
   "metadata": {},
   "outputs": [
    {
     "name": "stdout",
     "output_type": "stream",
     "text": [
      "Final weight: [-2.93607353  6.8343925   6.81421596]\n",
      "Final classification rate: 1.0\n"
     ]
    }
   ],
   "source": [
    "print(\"Final weight:\", weight)\n",
    "print(\"Final classification rate:\", \n",
    "          1 - np.abs(output_array - np.round(Y_pred)).sum() / num_inputs)"
   ]
  }
 ],
 "metadata": {
  "kernelspec": {
   "display_name": "Python 3",
   "language": "python",
   "name": "python3"
  },
  "language_info": {
   "codemirror_mode": {
    "name": "ipython",
    "version": 3
   },
   "file_extension": ".py",
   "mimetype": "text/x-python",
   "name": "python",
   "nbconvert_exporter": "python",
   "pygments_lexer": "ipython3",
   "version": "3.6.3"
  }
 },
 "nbformat": 4,
 "nbformat_minor": 2
}
