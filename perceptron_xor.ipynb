{
 "cells": [
  {
   "cell_type": "code",
   "execution_count": 18,
   "metadata": {},
   "outputs": [],
   "source": [
    "import numpy as np\n",
    "import matplotlib.pyplot as plt"
   ]
  },
  {
   "cell_type": "code",
   "execution_count": 19,
   "metadata": {},
   "outputs": [],
   "source": [
    "num_inputs = 4\n",
    "dimension = 2"
   ]
  },
  {
   "cell_type": "code",
   "execution_count": 20,
   "metadata": {},
   "outputs": [],
   "source": [
    "input_array = np.array([\n",
    "    [0, 0],\n",
    "    [0, 1],\n",
    "    [1, 0],\n",
    "    [1, 1],\n",
    "])"
   ]
  },
  {
   "cell_type": "code",
   "execution_count": 21,
   "metadata": {},
   "outputs": [],
   "source": [
    "output_array = np.array([0, 1, 1, 0])"
   ]
  },
  {
   "cell_type": "code",
   "execution_count": 22,
   "metadata": {},
   "outputs": [
    {
     "data": {
      "text/plain": [
       "(4, 2)"
      ]
     },
     "execution_count": 22,
     "metadata": {},
     "output_type": "execute_result"
    }
   ],
   "source": [
    "# Bias Input\n",
    "bias = np.ones((num_inputs, 1))\n",
    "input_array.shape"
   ]
  },
  {
   "cell_type": "code",
   "execution_count": 23,
   "metadata": {},
   "outputs": [],
   "source": [
    "var_mul = (input_array[:,0] * input_array[:,1]).reshape(num_inputs, 1)\n",
    "input_bias = np.hstack((bias, var_mul, input_array))\n",
    "#input_bias = np.hstack((bias, input_array))"
   ]
  },
  {
   "cell_type": "code",
   "execution_count": 24,
   "metadata": {},
   "outputs": [],
   "source": [
    "# randomly initialize the weights\n",
    "weight = np.random.randn(dimension + 2)\n",
    "#weight = np.random.randn(dimension + 1)"
   ]
  },
  {
   "cell_type": "code",
   "execution_count": 25,
   "metadata": {},
   "outputs": [],
   "source": [
    "# calculate the model output\n",
    "model_output = input_bias.dot(weight)"
   ]
  },
  {
   "cell_type": "code",
   "execution_count": 26,
   "metadata": {},
   "outputs": [],
   "source": [
    "def sigmoid(model_output):\n",
    "    return 1/(1 + np.exp(-model_output))"
   ]
  },
  {
   "cell_type": "code",
   "execution_count": 27,
   "metadata": {},
   "outputs": [],
   "source": [
    "Y_pred = sigmoid(model_output)"
   ]
  },
  {
   "cell_type": "code",
   "execution_count": 28,
   "metadata": {},
   "outputs": [],
   "source": [
    "# cross-entropy error\n",
    "def cross_entropy(actual, prediction):\n",
    "    E = 0\n",
    "    for i in range(num_inputs):\n",
    "        if actual[i] == 1:\n",
    "            E -= np.log(prediction[i])\n",
    "        else:\n",
    "            E -= np.log(1 - prediction[i])\n",
    "    return E"
   ]
  },
  {
   "cell_type": "code",
   "execution_count": 29,
   "metadata": {},
   "outputs": [],
   "source": [
    "# Gradient Descent\n",
    "learning_rate = 0.01\n",
    "error_array = []"
   ]
  },
  {
   "cell_type": "code",
   "execution_count": 30,
   "metadata": {},
   "outputs": [
    {
     "name": "stdout",
     "output_type": "stream",
     "text": [
      "2.94853842629\n",
      "2.74853750172\n",
      "2.59463837361\n",
      "2.45729430995\n",
      "2.33226559053\n",
      "2.21741075003\n",
      "2.11127635884\n",
      "2.0128106186\n",
      "1.92121172223\n",
      "1.83583675144\n",
      "1.75614712717\n",
      "1.68167616887\n",
      "1.61200978018\n",
      "1.546774802\n",
      "1.48563178331\n",
      "1.42827026914\n",
      "1.37440551242\n",
      "1.32377599172\n",
      "1.27614139197\n",
      "1.2312808627\n",
      "1.18899145562\n",
      "1.1490866915\n",
      "1.11139523167\n",
      "1.0757596419\n",
      "1.04203524263\n",
      "1.0100890419\n",
      "0.979798747731\n",
      "0.951051857028\n",
      "0.923744817309\n",
      "0.897782257552\n",
      "0.873076283913\n",
      "0.84954583604\n",
      "0.827116099628\n",
      "0.805717970904\n",
      "0.785287568878\n",
      "0.765765791362\n",
      "0.747097910997\n",
      "0.729233207751\n",
      "0.712124634616\n",
      "0.695728513482\n",
      "0.680004258393\n",
      "0.664914123657\n",
      "0.650422974482\n",
      "0.63649807802\n",
      "0.623108912918\n",
      "0.610226995616\n",
      "0.597825721842\n",
      "0.585880221863\n",
      "0.574367228213\n",
      "0.563264954739\n",
      "0.552552985908\n",
      "0.542212175436\n",
      "0.532224553379\n",
      "0.522573240911\n",
      "0.513242372101\n",
      "0.504217022044\n",
      "0.495483140797\n",
      "0.48702749258\n",
      "0.4788375998\n",
      "0.47090169146\n",
      "0.463208655579\n",
      "0.455747995277\n",
      "0.448509788207\n",
      "0.441484649054\n",
      "0.434663694847\n",
      "0.428038512831\n",
      "0.421601130716\n",
      "0.415343989078\n",
      "0.409259915757\n",
      "0.403342102083\n",
      "0.397584080786\n",
      "0.391979705452\n",
      "0.386523131408\n",
      "0.38120879792\n",
      "0.376031411615\n",
      "0.370985931009\n",
      "0.36606755208\n",
      "0.361271694797\n",
      "0.356593990534\n",
      "0.352030270304\n",
      "0.347576553752\n",
      "0.343229038853\n",
      "0.338984092266\n",
      "0.334838240289\n",
      "0.330788160383\n",
      "0.326830673218\n",
      "0.322962735201\n",
      "0.319181431466\n",
      "0.315483969282\n",
      "0.31186767185\n",
      "0.308329972475\n",
      "0.304868409075\n",
      "0.301480619006\n",
      "0.298164334198\n",
      "0.294917376553\n",
      "0.291737653614\n",
      "0.288623154479\n",
      "0.285571945935\n",
      "0.282582168813\n",
      "0.279652034538\n"
     ]
    }
   ],
   "source": [
    "for i in range(10000):\n",
    "    error = cross_entropy(output_array, Y_pred)\n",
    "    error_array.append(error)\n",
    "    if i % 100 == 0:\n",
    "        print(error)\n",
    "\n",
    "    # gradient descent weight udpate\n",
    "    weight += learning_rate * ( input_bias.T.dot(output_array - Y_pred) )\n",
    "\n",
    "    Y_pred = sigmoid(input_bias.dot(weight))"
   ]
  },
  {
   "cell_type": "code",
   "execution_count": 31,
   "metadata": {},
   "outputs": [
    {
     "data": {
      "image/png": "[encoded data removed]",
      "text/plain": [
       "<matplotlib.figure.Figure at 0x1e948a2fcc0>"
      ]
     },
     "metadata": {},
     "output_type": "display_data"
    }
   ],
   "source": [
    "plt.plot(error_array)\n",
    "plt.title(\"Cross-entropy per iteration\")\n",
    "plt.show()"
   ]
  },
  {
   "cell_type": "code",
   "execution_count": 32,
   "metadata": {},
   "outputs": [
    {
     "name": "stdout",
     "output_type": "stream",
     "text": [
      "Final weight: [ -2.23713259 -10.72447914   4.9214998    4.92150287]\n",
      "Final classification rate: 1.0\n"
     ]
    }
   ],
   "source": [
    "print(\"Final weight:\", weight)\n",
    "print(\"Final classification rate:\", \n",
    "          1 - np.abs(output_array - np.round(Y_pred)).sum() / num_inputs)"
   ]
  }
 ],
 "metadata": {
  "kernelspec": {
   "display_name": "Python 3",
   "language": "python",
   "name": "python3"
  },
  "language_info": {
   "codemirror_mode": {
    "name": "ipython",
    "version": 3
   },
   "file_extension": ".py",
   "mimetype": "text/x-python",
   "name": "python",
   "nbconvert_exporter": "python",
   "pygments_lexer": "ipython3",
   "version": "3.6.3"
  }
 },
 "nbformat": 4,
 "nbformat_minor": 2
}
